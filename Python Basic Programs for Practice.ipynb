{
 "cells": [
  {
   "cell_type": "markdown",
   "metadata": {},
   "source": [
    "# Write a Python program to print the following string in a specific format."
   ]
  },
  {
   "cell_type": "code",
   "execution_count": 1,
   "metadata": {},
   "outputs": [
    {
     "name": "stdout",
     "output_type": "stream",
     "text": [
      "Twinkle, twinkle, little star,\n",
      "\tHow I wonder what you are!\n",
      "\t\tUp above the world so high,\n",
      "\t\tLike a diamond in the sky.\n",
      "Twinkle, twinkle, little star,\n",
      "\tHow I wonder what you are\n"
     ]
    }
   ],
   "source": [
    "# Sample String : \"Twinkle, twinkle, little star, How I wonder what you are! Up above the world so high, Like a diamond in the sky. Twinkle, twinkle, little star, How I wonder what you are\" \n",
    "\n",
    "# Output :\n",
    "\n",
    "# Twinkle, twinkle, little star,\n",
    "# \tHow I wonder what you are! \n",
    "# \t\tUp above the world so high,\n",
    "# \t\tLike a diamond in the sky. \n",
    "# Twinkle, twinkle, little star, \n",
    "# \tHow I wonder what you are\n",
    "\n",
    "print(\"Twinkle, twinkle, little star,\\n\\tHow I wonder what you are!\\n\\t\\tUp above the world so high,\\n\\t\\tLike a diamond in the sky.\\nTwinkle, twinkle, little star,\\n\\tHow I wonder what you are\")"
   ]
  },
  {
   "cell_type": "markdown",
   "metadata": {},
   "source": [
    "# Create a program that asks the user to enter their name and their age. Print out a message addressed to them that tells them the year that they will turn 100 years old."
   ]
  },
  {
   "cell_type": "code",
   "execution_count": 3,
   "metadata": {},
   "outputs": [
    {
     "name": "stdout",
     "output_type": "stream",
     "text": [
      "What is your name:aaaa\n",
      "What is your age:15\n",
      "You will be 100 years old in  2104\n"
     ]
    }
   ],
   "source": [
    "name = input('What is your name:')\n",
    "age = int(input('What is your age:'))\n",
    "year = 2019 + 100 - age\n",
    "print('You will be 100 years old in ', year)"
   ]
  },
  {
   "cell_type": "markdown",
   "metadata": {},
   "source": [
    "# Write a Python program that accepts an integer (n) and computes the value of n+nn+nnn."
   ]
  },
  {
   "cell_type": "code",
   "execution_count": 4,
   "metadata": {},
   "outputs": [
    {
     "name": "stdout",
     "output_type": "stream",
     "text": [
      "Enter a number: 3\n",
      "Expected Result:  369\n"
     ]
    }
   ],
   "source": [
    "# Sample value of n is 5 \n",
    "# Expected Result : 615\n",
    "\n",
    "n = int(input(\"Enter a number: \"))\n",
    "nn = 10 * n + n\n",
    "nnn = 100 * n + nn\n",
    "print(\"Expected Result: \", nnn+nn+n)"
   ]
  },
  {
   "cell_type": "markdown",
   "metadata": {},
   "source": [
    "# Write a Python program which takes rows and columns as input and generates a two-dimensional array."
   ]
  },
  {
   "cell_type": "code",
   "execution_count": 5,
   "metadata": {},
   "outputs": [
    {
     "name": "stdout",
     "output_type": "stream",
     "text": [
      "Input number of rows: 4\n",
      "Input number of columns: 4\n",
      "[[0, 0, 0, 0], [0, 1, 2, 3], [0, 2, 4, 6], [0, 3, 6, 9]]\n"
     ]
    }
   ],
   "source": [
    "# The element value in the i-th row and j-th column of the array should be i*j.\n",
    "# Input\n",
    "# Input number of rows: 3                                                                                       \n",
    "# Input number of columns: 4  \n",
    "# Output\n",
    "# [[0, 0, 0, 0], [0, 1, 2, 3], [0, 2, 4, 6]] \n",
    "\n",
    "row = int(input(\"Input number of rows: \"))\n",
    "col = int(input(\"Input number of columns: \"))\n",
    "\n",
    "array = [[0 for j in range(col)] for i in range(row)]\n",
    "for i in range(row):\n",
    "    for j in range(col):\n",
    "        array[i][j] = i*j\n",
    "print(array)"
   ]
  },
  {
   "cell_type": "markdown",
   "metadata": {},
   "source": [
    "# Write a Python program to check a triangle is valid or not"
   ]
  },
  {
   "cell_type": "code",
   "execution_count": 22,
   "metadata": {},
   "outputs": [
    {
     "name": "stdout",
     "output_type": "stream",
     "text": [
      "Enter the length of side 1: 10\n",
      "Enter the length of side 2: 2\n",
      "Enter the length of side 3: 3\n",
      "The given sides cannot form a triangle\n"
     ]
    }
   ],
   "source": [
    "side1 = int(input(\"Enter the length of side 1: \"))\n",
    "side2 = int(input(\"Enter the length of side 2: \"))\n",
    "side3 = int(input(\"Enter the length of side 3: \"))\n",
    "\n",
    "if (side1 > side2 + side3) or (side2 > side3 + side1) or (side3 > side2 + side1):\n",
    "    print('The given sides cannot form a triangle')\n",
    "else:\n",
    "    print('The given sides can form a triangle')"
   ]
  },
  {
   "cell_type": "markdown",
   "metadata": {},
   "source": [
    "# Write a Python program to construct the following pattern, using a nested loop number."
   ]
  },
  {
   "cell_type": "code",
   "execution_count": 27,
   "metadata": {},
   "outputs": [
    {
     "name": "stdout",
     "output_type": "stream",
     "text": [
      "1\n",
      "22\n",
      "333\n",
      "4444\n",
      "55555\n",
      "666666\n",
      "7777777\n",
      "88888888\n",
      "999999999\n"
     ]
    }
   ],
   "source": [
    "# 1                                                                                                             \n",
    "# 22                                                                                                            \n",
    "# 333                                                                                                           \n",
    "# 4444                                                                                                          \n",
    "# 55555                                                                                                         \n",
    "# 666666                                                                                                        \n",
    "# 7777777                                                                                                       \n",
    "# 88888888                                                                                                      \n",
    "# 999999999 \n",
    "\n",
    "for num in range(1,10):\n",
    "    print(str(num) * num)"
   ]
  },
  {
   "cell_type": "markdown",
   "metadata": {},
   "source": [
    "# Write a Python program to construct the following pattern, using a nested for loop."
   ]
  },
  {
   "cell_type": "code",
   "execution_count": 35,
   "metadata": {},
   "outputs": [
    {
     "name": "stdout",
     "output_type": "stream",
     "text": [
      "* \n",
      "* * \n",
      "* * * \n",
      "* * * * \n",
      "* * * * * \n",
      "* * * * \n",
      "* * * \n",
      "* * \n",
      "* \n"
     ]
    }
   ],
   "source": [
    "# * \n",
    "# * * \n",
    "# * * * \n",
    "# * * * * \n",
    "# * * * * * \n",
    "# * * * * \n",
    "# * * * \n",
    "# * * \n",
    "# *\n",
    "\n",
    "for i in range(1,5):\n",
    "    for j in range(i):\n",
    "        print(\"* \", end = '')\n",
    "    print('')\n",
    "\n",
    "for i in range(5,0,-1):\n",
    "    for j in range(i):\n",
    "        print(\"* \", end='')\n",
    "    print('')"
   ]
  },
  {
   "cell_type": "markdown",
   "metadata": {},
   "source": [
    "# Write a Python program that accepts a string and calculate the number of digits and letters"
   ]
  },
  {
   "cell_type": "code",
   "execution_count": 38,
   "metadata": {},
   "outputs": [
    {
     "name": "stdout",
     "output_type": "stream",
     "text": [
      "Enter the string: pyrhon 2.3\n",
      "Letters  6\n",
      "Digits  2\n"
     ]
    }
   ],
   "source": [
    "# Sample Data : \"Python 3.2\"\n",
    "# Expected Output :\n",
    "# Letters 6 \n",
    "# Digits 2\n",
    "\n",
    "string = input(\"Enter the string: \")\n",
    "digit = letter = 0\n",
    "for character in string:\n",
    "    if character.isdigit():\n",
    "        digit += 1\n",
    "    if character.isalpha():\n",
    "        letter += 1\n",
    "print(\"Letters \",letter)\n",
    "print(\"Digits \",digit)\n"
   ]
  },
  {
   "cell_type": "markdown",
   "metadata": {},
   "source": [
    "# Count the number of even and odd numbers from a series of numbers"
   ]
  },
  {
   "cell_type": "code",
   "execution_count": 40,
   "metadata": {},
   "outputs": [
    {
     "name": "stdout",
     "output_type": "stream",
     "text": [
      "Number of even numbers:  4\n",
      "Number of odd numbers:  5\n"
     ]
    }
   ],
   "source": [
    "# Input \n",
    "# numbers = ( 1, 2, 3, 4, 5, 6, 7, 8, 9 ) #Declaring a tuple\n",
    "# Output\n",
    "# Number of even numbers : 4                                                                                    \n",
    "# Number of odd numbers : 5 \n",
    "\n",
    "numbers = ( 1, 2, 3, 4, 5, 6, 7, 8, 9 )\n",
    "odd_count = even_count = 0\n",
    "for num in numbers:\n",
    "    if not num % 2:\n",
    "        even_count += 1\n",
    "    else:\n",
    "        odd_count += 1\n",
    "print(\"Number of even numbers: \", even_count)\n",
    "print('Number of odd numbers: ',odd_count)"
   ]
  },
  {
   "cell_type": "markdown",
   "metadata": {},
   "source": [
    "# Write a Python program to get the Fibonacci series between 0 to 50 "
   ]
  },
  {
   "cell_type": "code",
   "execution_count": 44,
   "metadata": {},
   "outputs": [
    {
     "name": "stdout",
     "output_type": "stream",
     "text": [
      "1 1 2 3 5 8 13 21 34 "
     ]
    }
   ],
   "source": [
    "num1 = 0\n",
    "num2 = 1\n",
    "while num2 < 50:\n",
    "    print(num2, end = ' ')\n",
    "    num1, num2 = num2, num1 + num2"
   ]
  },
  {
   "cell_type": "markdown",
   "metadata": {},
   "source": [
    "#  Write a Python program to find those numbers which are divisible by 7 and multiple of 5, between 1500 and 2700"
   ]
  },
  {
   "cell_type": "code",
   "execution_count": 45,
   "metadata": {},
   "outputs": [
    {
     "name": "stdout",
     "output_type": "stream",
     "text": [
      "1505 1540 1575 1610 1645 1680 1715 1750 1785 1820 1855 1890 1925 1960 1995 2030 2065 2100 2135 2170 2205 2240 2275 2310 2345 2380 2415 2450 2485 2520 2555 2590 2625 2660 2695 "
     ]
    }
   ],
   "source": [
    "for num in range(1500,2700):\n",
    "    if not num % 7 and not num % 5:\n",
    "        print(num, end = \" \")"
   ]
  },
  {
   "cell_type": "markdown",
   "metadata": {},
   "source": [
    "# Generate a random number between 1 and 9 (including 1 and 9).\n",
    "# Ask the user to guess the number, then tell them whether they guessed too low, too high, or exactly right. "
   ]
  },
  {
   "cell_type": "code",
   "execution_count": 49,
   "metadata": {},
   "outputs": [
    {
     "name": "stdout",
     "output_type": "stream",
     "text": [
      "Enter the input as 'Exit if you want to exit'\n",
      "Enter your guess: 5\n",
      "Too High!\n",
      "Enter your guess: 1\n",
      "Too Low!\n",
      "Enter your guess: 2\n",
      "Too Low!\n",
      "Enter your guess: 3\n",
      "You got it right\n",
      "And it took you 4 tries\n"
     ]
    }
   ],
   "source": [
    "import random\n",
    "\n",
    "number = random.randint(1,10)\n",
    "guess = count = 0\n",
    "\n",
    "print(\"Enter the input as 'Exit if you want to exit'\")\n",
    "\n",
    "while number != guess and guess != 'exit':\n",
    "    guess = input(\"Enter your guess: \")\n",
    "    \n",
    "    if guess == 'exit':\n",
    "        break\n",
    "        \n",
    "    guess = int(guess)\n",
    "    count += 1\n",
    "    \n",
    "    if guess < number:\n",
    "        print('Too Low!')\n",
    "    elif guess > number:\n",
    "        print(\"Too High!\")\n",
    "    else:\n",
    "        print(\"You got it right\\nAnd it took you\", count,\"tries\")"
   ]
  },
  {
   "cell_type": "markdown",
   "metadata": {},
   "source": [
    "# Write a Python program to check the validity of a password (input from users)."
   ]
  },
  {
   "cell_type": "code",
   "execution_count": null,
   "metadata": {},
   "outputs": [],
   "source": [
    "# Validation :\n",
    "# At least 1 letter between [a-z] and 1 letter between [A-Z].\n",
    "# At least 1 number between [0-9].\n",
    "# At least 1 character from [$#@].\n",
    "# Minimum length 6 characters.\n",
    "# Maximum length 16 characters.\n",
    "# Input\n",
    "# W3r@100a\n",
    "# Output\n",
    "# Valid password\n",
    "\n",
    "import re\n",
    "password = input(\"Enter the Password: \")\n",
    "\n",
    "if ( len(password) < 6 and len(password) > 16 ) or not re.search('[a-z]',password) \\\n",
    "    or not re.search('[A-Z]',password) or not re.search('[$#@]',password) \\\n",
    "    or not re.search('[0-9]',password) or re.search('\\s',password):\n",
    "    print(\"Password is invalid\")\n",
    "else:\n",
    "    print(\"Password is valid\")\n"
   ]
  },
  {
   "cell_type": "markdown",
   "metadata": {},
   "source": [
    "# Write a Python program to check a triangle is equilateral, isosceles or scalene."
   ]
  },
  {
   "cell_type": "code",
   "execution_count": null,
   "metadata": {},
   "outputs": [],
   "source": [
    "# Note :\n",
    "# An equilateral triangle is a triangle in which all three sides are equal.\n",
    "# A scalene triangle is a triangle that has three unequal sides.\n",
    "# An isosceles triangle is a triangle with (at least) two equal sides.\n",
    "\n",
    "print(\"Enter the sides of the Triangle\")\n",
    "\n",
    "side1 = int(input(\"Side 1: \"))\n",
    "side2 = int(input(\"Side 2: \"))\n",
    "side3 = int(input(\"Side 3: \"))\n",
    "\n",
    "if side1 == side2 == side3:\n",
    "    print(\"It's an Equilateral Triangle\")\n",
    "elif side1 != side2 != side3:\n",
    "    print(\"It's a Scalene Triangle\")\n",
    "else:\n",
    "    print(\"It's an Isosceles Triangle\")\n"
   ]
  },
  {
   "cell_type": "markdown",
   "metadata": {},
   "source": [
    "# Write a Python program to check whether an alphabet is a vowel or consonant"
   ]
  },
  {
   "cell_type": "code",
   "execution_count": 9,
   "metadata": {},
   "outputs": [
    {
     "name": "stdout",
     "output_type": "stream",
     "text": [
      "Enter the letter: t\n",
      "t is a consonant\n"
     ]
    }
   ],
   "source": [
    "letter = input(\"Enter the letter: \")\n",
    "if letter in ('a','e','i','o','u'):\n",
    "    print(\"%s is a vowel\" %letter)\n",
    "else:\n",
    "    print(letter,'is a consonant')"
   ]
  },
  {
   "cell_type": "markdown",
   "metadata": {},
   "source": [
    "# Convert a list of characters into a string"
   ]
  },
  {
   "cell_type": "code",
   "execution_count": 11,
   "metadata": {},
   "outputs": [
    {
     "name": "stdout",
     "output_type": "stream",
     "text": [
      "abcd\n"
     ]
    }
   ],
   "source": [
    "# Input ['a', 'b', 'c', 'd']\n",
    "# Output abcd\n",
    "\n",
    "string = ['a','b','c','d']\n",
    "string = ''.join(string)\n",
    "print(string)"
   ]
  },
  {
   "cell_type": "markdown",
   "metadata": {},
   "source": [
    "# Write a Python program to check whether a list contains a sublist."
   ]
  },
  {
   "cell_type": "code",
   "execution_count": 15,
   "metadata": {},
   "outputs": [
    {
     "name": "stdout",
     "output_type": "stream",
     "text": [
      "It is a subset\n"
     ]
    }
   ],
   "source": [
    "long_list = [2,4,3,5,7]\n",
    "sub_list = [4,3]\n",
    "\n",
    "if(all(x in long_list for x in sub_list)):\n",
    "    print('It is a subset')\n",
    "else:\n",
    "    print(\"It is not a subset\")"
   ]
  },
  {
   "cell_type": "markdown",
   "metadata": {},
   "source": [
    "# Write a Python program to find common items from two lists."
   ]
  },
  {
   "cell_type": "code",
   "execution_count": 17,
   "metadata": {},
   "outputs": [
    {
     "name": "stdout",
     "output_type": "stream",
     "text": [
      "{'White', 'Green'}\n"
     ]
    }
   ],
   "source": [
    "# input\n",
    "# color1 = \"Red\", \"Green\", \"Orange\", \"White\"\n",
    "# color2 = \"Black\", \"Green\", \"White\", \"Pink\"\n",
    "# output\n",
    "# {'Green', 'White'}\n",
    "\n",
    "color1 = \"Red\", \"Green\", \"Orange\", \"White\"\n",
    "color2 = \"Black\", \"Green\", \"White\", \"Pink\"\n",
    "print(set(color1) & set(color2))"
   ]
  },
  {
   "cell_type": "markdown",
   "metadata": {},
   "source": [
    "# Write a Python program to get the difference between the two lists"
   ]
  },
  {
   "cell_type": "code",
   "execution_count": 18,
   "metadata": {},
   "outputs": [
    {
     "name": "stdout",
     "output_type": "stream",
     "text": [
      "[3, 4]\n"
     ]
    }
   ],
   "source": [
    "# Input \n",
    "# list1 = [1, 2, 3, 4]\n",
    "# list2 = [1, 2]\n",
    "# Output\n",
    "# [3,4]\n",
    "\n",
    "list1 = [1, 2, 3, 4]\n",
    "list2 = [1, 2]\n",
    "print(list(set(list1) - set(list2)))"
   ]
  },
  {
   "cell_type": "markdown",
   "metadata": {},
   "source": [
    "# Write a Python program to get the smallest number from a list."
   ]
  },
  {
   "cell_type": "code",
   "execution_count": 20,
   "metadata": {},
   "outputs": [
    {
     "name": "stdout",
     "output_type": "stream",
     "text": [
      "-9\n"
     ]
    }
   ],
   "source": [
    "num_list = [2, -9, 0, 10, 1, 6]\n",
    "small = num_list[0]\n",
    "for x in num_list:\n",
    "    if x < small:\n",
    "        small = x\n",
    "        \n",
    "print(small)"
   ]
  },
  {
   "cell_type": "markdown",
   "metadata": {},
   "source": [
    "# Write a Python program to get the frequency of the elements in a list."
   ]
  },
  {
   "cell_type": "code",
   "execution_count": 23,
   "metadata": {},
   "outputs": [
    {
     "name": "stdout",
     "output_type": "stream",
     "text": [
      "Counter({20: 5, 10: 3, 40: 2, 50: 2, 30: 1, 5: 1})\n"
     ]
    }
   ],
   "source": [
    "# input\n",
    "# my_list = [10,10,10,10,20,20,20,20,40,40,50,50,30]\n",
    "# outout\n",
    "# {10: 4, 20: 4, 40: 2, 50: 2, 30: 1}\n",
    "\n",
    "import collections\n",
    "my_list = [10,10,10,20,20,20,20,40,40,50,50,30,5,20]\n",
    "ctr = collections.Counter(my_list)\n",
    "print(ctr)"
   ]
  },
  {
   "cell_type": "markdown",
   "metadata": {},
   "source": [
    "#  Write a Python program to generate all permutations of a list in Python"
   ]
  },
  {
   "cell_type": "code",
   "execution_count": 25,
   "metadata": {},
   "outputs": [
    {
     "name": "stdout",
     "output_type": "stream",
     "text": [
      "[(1, 2, 3), (1, 3, 2), (2, 1, 3), (2, 3, 1), (3, 1, 2), (3, 2, 1)]\n"
     ]
    }
   ],
   "source": [
    "import itertools\n",
    "print(list(itertools.permutations([1,2,3])))"
   ]
  },
  {
   "cell_type": "code",
   "execution_count": 27,
   "metadata": {},
   "outputs": [
    {
     "name": "stdout",
     "output_type": "stream",
     "text": [
      "inf\n"
     ]
    }
   ],
   "source": [
    "a = float('inf')\n",
    "print(a)"
   ]
  },
  {
   "cell_type": "markdown",
   "metadata": {},
   "source": [
    "# Write a Python program to find the second smallest number in a list."
   ]
  },
  {
   "cell_type": "code",
   "execution_count": 29,
   "metadata": {},
   "outputs": [
    {
     "name": "stdout",
     "output_type": "stream",
     "text": [
      "5\n"
     ]
    }
   ],
   "source": [
    "def second_smallest(numbers):\n",
    "    smallest, second = float('inf'), float(\"inf\")\n",
    "    for x in numbers:\n",
    "        if x <= smallest:\n",
    "            smallest, second = x, smallest\n",
    "        elif x < second:\n",
    "            second = x\n",
    "    return second\n",
    "\n",
    "print(second_smallest([5, 10, 1, 8]))"
   ]
  },
  {
   "cell_type": "markdown",
   "metadata": {},
   "source": [
    "# Write a Python program to count the number of characters (character frequency) in a string."
   ]
  },
  {
   "cell_type": "code",
   "execution_count": 30,
   "metadata": {},
   "outputs": [
    {
     "name": "stdout",
     "output_type": "stream",
     "text": [
      "{'g': 2, 'o': 2, 'l': 1, 'e': 1}\n"
     ]
    }
   ],
   "source": [
    "# Sample String : 'google'\n",
    "# Expected Result : {'g': 2, 'o': 2, 'l': 1, 'e': 1}\n",
    "\n",
    "def char_count(string):\n",
    "    char_dict = {}\n",
    "    for c in string:\n",
    "        keys = char_dict.keys()\n",
    "        if c in keys:\n",
    "            char_dict[c] += 1\n",
    "        else:\n",
    "            char_dict[c] = 1\n",
    "    return char_dict\n",
    "\n",
    "print(char_count('google'))"
   ]
  },
  {
   "cell_type": "markdown",
   "metadata": {},
   "source": [
    "# Write a Python program to count the occurrences of each word in a given sentence "
   ]
  },
  {
   "cell_type": "code",
   "execution_count": 31,
   "metadata": {},
   "outputs": [
    {
     "name": "stdout",
     "output_type": "stream",
     "text": [
      "{'Hello': 1, 'I': 1, 'am': 1, 'writing': 1, 'a': 1, 'program': 1}\n"
     ]
    }
   ],
   "source": [
    "def word_count(sentence):\n",
    "    counts = dict()\n",
    "    words = sentence.split()\n",
    "    for word in words:\n",
    "        if word in counts:\n",
    "            counts[word] += 1\n",
    "        else:\n",
    "            counts[word] = 1\n",
    "    return counts\n",
    "\n",
    "print(word_count(\"Hello I am writing a program\"))"
   ]
  },
  {
   "cell_type": "markdown",
   "metadata": {},
   "source": [
    "# Write a Python script to concatenate following dictionaries to create a new one"
   ]
  },
  {
   "cell_type": "code",
   "execution_count": 33,
   "metadata": {},
   "outputs": [
    {
     "name": "stdout",
     "output_type": "stream",
     "text": [
      "{1: 10, 2: 20, 3: 30, 4: 40, 5: 50, 6: 60}\n"
     ]
    }
   ],
   "source": [
    "dic1={1:10, 2:20}\n",
    "dic2={3:30, 4:40}\n",
    "dic3={5:50, 6:60}\n",
    "dic4 = {}\n",
    "for d in (dic1, dic2, dic3): \n",
    "    dic4.update(d)\n",
    "print(dic4)"
   ]
  },
  {
   "cell_type": "markdown",
   "metadata": {},
   "source": [
    "# Write a Python program to iterate over dictionaries using for loops."
   ]
  },
  {
   "cell_type": "code",
   "execution_count": 34,
   "metadata": {},
   "outputs": [
    {
     "name": "stdout",
     "output_type": "stream",
     "text": [
      "red --> 10\n",
      "black --> 20\n",
      "green --> 5\n"
     ]
    }
   ],
   "source": [
    "dic = {'red': 10, 'black': 20, 'green': 5}\n",
    "for dict_key, dict_value in dic.items():\n",
    "    print(dict_key, '-->', dict_value)"
   ]
  },
  {
   "cell_type": "markdown",
   "metadata": {},
   "source": [
    "# Write a Python program to sort (ascending and descending) a dictionary by value."
   ]
  },
  {
   "cell_type": "code",
   "execution_count": 38,
   "metadata": {},
   "outputs": [
    {
     "name": "stdout",
     "output_type": "stream",
     "text": [
      "Original:  {1: 2, 3: 4, 4: 3, 2: 1, 0: 0}\n",
      "Ascending order:  [(0, 0), (1, 2), (2, 1), (3, 4), (4, 3)]\n",
      "Descending order:  [(4, 3), (3, 4), (2, 1), (1, 2), (0, 0)]\n"
     ]
    }
   ],
   "source": [
    "dic = {1: 2, 3: 4, 4: 3, 2: 1, 0: 0}\n",
    "print(\"Original: \", dic)\n",
    "sorted_asc = sorted(dic.items())\n",
    "print(\"Ascending order: \", sorted_asc)\n",
    "sorted_des = sorted(dic.items(), reverse = True)\n",
    "print(\"Descending order: \", sorted_des)"
   ]
  },
  {
   "cell_type": "markdown",
   "metadata": {},
   "source": [
    "# Write a Python program to get the file size of a plain file."
   ]
  },
  {
   "cell_type": "code",
   "execution_count": 40,
   "metadata": {},
   "outputs": [
    {
     "name": "stdout",
     "output_type": "stream",
     "text": [
      "763\n"
     ]
    }
   ],
   "source": [
    "import os\n",
    "fileinfo = os.stat('test.txt')\n",
    "print(fileinfo.st_size)"
   ]
  },
  {
   "cell_type": "markdown",
   "metadata": {},
   "source": [
    "# Write a Python program to read first n lines of a file."
   ]
  },
  {
   "cell_type": "code",
   "execution_count": 42,
   "metadata": {},
   "outputs": [
    {
     "name": "stdout",
     "output_type": "stream",
     "text": [
      "What is Python language?                                                \n",
      "\n",
      "Python is a widely used high-level, general-purpose, interpreted, dynamic programming language.Its design philosophy emphasizes code readability, and its syntax allows programmers to express concepts in fewer lines of code than possible in \n",
      "\n"
     ]
    }
   ],
   "source": [
    "from itertools import islice\n",
    "def read_file(filename,num_line):\n",
    "    with open(filename) as file:\n",
    "        for line in islice(file,num_line):\n",
    "            print(line)\n",
    "\n",
    "read_file('test.txt',2)"
   ]
  },
  {
   "cell_type": "markdown",
   "metadata": {},
   "source": [
    "# Write a python program to find the longest words in a file"
   ]
  },
  {
   "cell_type": "code",
   "execution_count": 2,
   "metadata": {},
   "outputs": [
    {
     "name": "stdout",
     "output_type": "stream",
     "text": [
      "['general-purpose,', 'object-oriented,']\n"
     ]
    }
   ],
   "source": [
    "def longest_word(filename):\n",
    "    with open(filename,'r') as file:\n",
    "        words = file.read().split()\n",
    "    max_length = len(max(words, key=len))\n",
    "    return [word for word in words if len(word) == max_length]\n",
    "\n",
    "print(longest_word('test.txt'))"
   ]
  },
  {
   "cell_type": "markdown",
   "metadata": {},
   "source": [
    "# Write a Python program to find validity of a string of parentheses, '(', ')', '{', '}', '[' and ']. "
   ]
  },
  {
   "cell_type": "code",
   "execution_count": 8,
   "metadata": {},
   "outputs": [
    {
     "name": "stdout",
     "output_type": "stream",
     "text": [
      "True\n",
      "False\n"
     ]
    }
   ],
   "source": [
    "# These brackets must be close in the correct order, \n",
    "# for example \"()\" and \"()[]{}\" are valid but \"[)\", \"({[)]\" and \"{{{\" are invalid.\n",
    "\n",
    "class parantheses:\n",
    "    def is_valid(string):\n",
    "        stack, pchar = [], {'(':')', '{':'}', '[':']'}\n",
    "        for paranthese in string:\n",
    "            if paranthese in pchar:\n",
    "                stack.append(paranthese)\n",
    "            elif len(stack) == 0 or pchar[stack.pop()] != paranthese:\n",
    "                return False\n",
    "        return len(stack) == 0\n",
    "\n",
    "print(parantheses.is_valid('({[]})'))\n",
    "print(parantheses.is_valid('[}'))"
   ]
  },
  {
   "cell_type": "markdown",
   "metadata": {},
   "source": [
    "# Write a Python class named Circle constructed by a radius and two methods which will compute the area and the perimeter of a circle."
   ]
  },
  {
   "cell_type": "code",
   "execution_count": 13,
   "metadata": {},
   "outputs": [
    {
     "name": "stdout",
     "output_type": "stream",
     "text": [
      "78.5\n",
      "31.400000000000002\n"
     ]
    }
   ],
   "source": [
    "class Circle:\n",
    "    def __init__(self, r):\n",
    "        self.radius = r\n",
    "    def area(self):\n",
    "        return self.radius ** 2 * 3.14\n",
    "    def perimeter(self):\n",
    "        return self.radius * 2 * 3.14\n",
    "\n",
    "newCircle = Circle(5)\n",
    "print(newCircle.area())\n",
    "print(newCircle.perimeter())"
   ]
  },
  {
   "cell_type": "markdown",
   "metadata": {},
   "source": [
    "#  Write a Python program to generate a series of unique random numbers"
   ]
  },
  {
   "cell_type": "code",
   "execution_count": 15,
   "metadata": {},
   "outputs": [
    {
     "name": "stdout",
     "output_type": "stream",
     "text": [
      "0\n",
      "5\n",
      "3\n",
      "9\n",
      "8\n",
      "7\n",
      "6\n",
      "1\n",
      "4\n",
      "2\n"
     ]
    }
   ],
   "source": [
    "import random\n",
    "choices = list(range(10))\n",
    "random.shuffle(choices)\n",
    "print(choices.pop())\n",
    "while choices:\n",
    "    print(choices.pop())"
   ]
  },
  {
   "cell_type": "markdown",
   "metadata": {},
   "source": [
    "#  Write a Python program to convert Year/Month/Day to Day of Year in Python"
   ]
  },
  {
   "cell_type": "code",
   "execution_count": 5,
   "metadata": {},
   "outputs": [
    {
     "name": "stdout",
     "output_type": "stream",
     "text": [
      "Today is the 173th day of the year 2019\n"
     ]
    }
   ],
   "source": [
    "import datetime\n",
    "today = datetime.datetime.now()\n",
    "day_of_year = (today - datetime.datetime(today.year,1,1)).days + 1\n",
    "print(\"Today is the \" + str(day_of_year) + 'th day of the year ' + str(today.year))"
   ]
  },
  {
   "cell_type": "markdown",
   "metadata": {},
   "source": [
    "# Write a Python script to display the various Date Time formats."
   ]
  },
  {
   "cell_type": "code",
   "execution_count": 9,
   "metadata": {},
   "outputs": [
    {
     "name": "stdout",
     "output_type": "stream",
     "text": [
      "Current date and time:  2019-06-22 14:38:34.167983\n",
      "Current year:  2019\n",
      "Month of year:  June\n",
      "Week number of the year:  24\n",
      "Weekday of the week:  6\n",
      "Day of year:  173\n",
      "Day of the month :  22\n",
      "Day of week:  Saturday\n"
     ]
    }
   ],
   "source": [
    "# a) Current date and time\n",
    "# b) Current year\n",
    "# c) Month of year\n",
    "# d) Week number of the year\n",
    "# e) Weekday of the week\n",
    "# f) Day of year\n",
    "# g) Day of the month\n",
    "# h) Day of week\n",
    "\n",
    "import datetime as dt\n",
    "from datetime import date\n",
    "import time\n",
    "print(\"Current date and time: \" , dt.datetime.now())\n",
    "print(\"Current year: \", date.today().strftime(\"%Y\"))\n",
    "print(\"Month of year: \", date.today().strftime(\"%B\"))\n",
    "print(\"Week number of the year: \", date.today().strftime(\"%W\"))\n",
    "print(\"Weekday of the week: \", date.today().strftime(\"%w\"))\n",
    "print(\"Day of year: \", date.today().strftime(\"%j\"))\n",
    "print(\"Day of the month : \", date.today().strftime(\"%d\"))\n",
    "print(\"Day of week: \", date.today().strftime(\"%A\"))"
   ]
  },
  {
   "cell_type": "markdown",
   "metadata": {},
   "source": [
    "# Bubble Sort Algorithm"
   ]
  },
  {
   "cell_type": "code",
   "execution_count": 15,
   "metadata": {},
   "outputs": [
    {
     "name": "stdout",
     "output_type": "stream",
     "text": [
      "[14, 21, 27, 41, 43, 45, 46, 57, 70]\n"
     ]
    }
   ],
   "source": [
    "def bubbleSort(given_list):\n",
    "    for passnum in range(len(given_list)-1,0,-1):\n",
    "        for i in range(passnum):\n",
    "            if given_list[i]>given_list[i+1]:\n",
    "                temp = given_list[i]\n",
    "                given_list[i] = given_list[i+1]\n",
    "                given_list[i+1] = temp\n",
    "given_list = [14,46,43,27,57,41,45,21,70]\n",
    "bubbleSort(given_list)\n",
    "print(given_list)"
   ]
  },
  {
   "cell_type": "markdown",
   "metadata": {},
   "source": [
    "# Insertion Sort Algorithm"
   ]
  },
  {
   "cell_type": "code",
   "execution_count": 18,
   "metadata": {},
   "outputs": [
    {
     "name": "stdout",
     "output_type": "stream",
     "text": [
      "[5, 6, 11, 12, 13]\n"
     ]
    }
   ],
   "source": [
    "def insertionSort(given_list):  \n",
    "    for i in range(1, len(given_list)): \n",
    "  \n",
    "        key = given_list[i] \n",
    "        j = i-1\n",
    "        while j >=0 and key < given_list[j] : \n",
    "                given_list[j+1] = given_list[j] \n",
    "                j -= 1\n",
    "        given_list[j+1] = key \n",
    "    \n",
    "given_list = [12, 11, 13, 5, 6] \n",
    "insertionSort(given_list) \n",
    "print (given_list)  "
   ]
  },
  {
   "cell_type": "markdown",
   "metadata": {},
   "source": [
    "# Selection Sort Algorithm"
   ]
  },
  {
   "cell_type": "code",
   "execution_count": 20,
   "metadata": {},
   "outputs": [
    {
     "name": "stdout",
     "output_type": "stream",
     "text": [
      "[14, 21, 27, 41, 43, 45, 46, 57, 70]\n"
     ]
    }
   ],
   "source": [
    "def selectionSort(given_list):\n",
    "   for fillslot in range(len(given_list)-1,0,-1):\n",
    "       maxpos=0\n",
    "       for location in range(1,fillslot+1):\n",
    "           if given_list[location]>given_list[maxpos]:\n",
    "               maxpos = location\n",
    "       temp = given_list[fillslot]\n",
    "       given_list[fillslot] = given_list[maxpos]\n",
    "       given_list[maxpos] = temp\n",
    "given_list = [14,46,43,27,57,41,45,21,70]\n",
    "selectionSort(given_list)\n",
    "print(given_list)"
   ]
  },
  {
   "cell_type": "markdown",
   "metadata": {},
   "source": [
    "# Merge Sort Algorithm"
   ]
  },
  {
   "cell_type": "code",
   "execution_count": 22,
   "metadata": {},
   "outputs": [
    {
     "name": "stdout",
     "output_type": "stream",
     "text": [
      "Splitting  [14, 46, 43, 27, 57, 41, 45, 21, 70]\n",
      "Splitting  [14, 46, 43, 27]\n",
      "Splitting  [14, 46]\n",
      "Splitting  [14]\n",
      "Merging  [14]\n",
      "Splitting  [46]\n",
      "Merging  [46]\n",
      "Merging  [14, 46]\n",
      "Splitting  [43, 27]\n",
      "Splitting  [43]\n",
      "Merging  [43]\n",
      "Splitting  [27]\n",
      "Merging  [27]\n",
      "Merging  [27, 43]\n",
      "Merging  [14, 27, 43, 46]\n",
      "Splitting  [57, 41, 45, 21, 70]\n",
      "Splitting  [57, 41]\n",
      "Splitting  [57]\n",
      "Merging  [57]\n",
      "Splitting  [41]\n",
      "Merging  [41]\n",
      "Merging  [41, 57]\n",
      "Splitting  [45, 21, 70]\n",
      "Splitting  [45]\n",
      "Merging  [45]\n",
      "Splitting  [21, 70]\n",
      "Splitting  [21]\n",
      "Merging  [21]\n",
      "Splitting  [70]\n",
      "Merging  [70]\n",
      "Merging  [21, 70]\n",
      "Merging  [21, 45, 70]\n",
      "Merging  [21, 41, 45, 57, 70]\n",
      "Merging  [14, 21, 27, 41, 43, 45, 46, 57, 70]\n",
      "[14, 21, 27, 41, 43, 45, 46, 57, 70]\n"
     ]
    }
   ],
   "source": [
    "def mergeSort(given_list):\n",
    "    print(\"Splitting \",given_list)\n",
    "    if len(given_list)>1:\n",
    "        mid = len(given_list)//2\n",
    "        leftHalf = given_list[:mid]\n",
    "        rightHalf = given_list[mid:]\n",
    "        mergeSort(leftHalf)\n",
    "        mergeSort(rightHalf)\n",
    "        i=j=k=0       \n",
    "        while i < len(leftHalf) and j < len(rightHalf):\n",
    "            if leftHalf[i] < rightHalf[j]:\n",
    "                given_list[k]=leftHalf[i]\n",
    "                i=i+1\n",
    "            else:\n",
    "                given_list[k]=rightHalf[j]\n",
    "                j=j+1\n",
    "            k=k+1\n",
    "        while i < len(leftHalf):\n",
    "            given_list[k]=leftHalf[i]\n",
    "            i=i+1\n",
    "            k=k+1\n",
    "        while j < len(rightHalf):\n",
    "            given_list[k]=rightHalf[j]\n",
    "            j=j+1\n",
    "            k=k+1\n",
    "    print(\"Merging \",given_list)\n",
    "given_list = [14,46,43,27,57,41,45,21,70]\n",
    "mergeSort(given_list)\n",
    "print(given_list)"
   ]
  },
  {
   "cell_type": "markdown",
   "metadata": {},
   "source": [
    "# Sequential Search Algorithm"
   ]
  },
  {
   "cell_type": "code",
   "execution_count": 28,
   "metadata": {},
   "outputs": [
    {
     "name": "stdout",
     "output_type": "stream",
     "text": [
      "The required item does not exist in the list\n"
     ]
    }
   ],
   "source": [
    "def sequentialSearch(given_list, item):\n",
    "    pos = 0\n",
    "    found = False\n",
    "    \n",
    "    while pos < len(given_list) and not found:\n",
    "        if given_list[pos] == item:\n",
    "            found = True\n",
    "        else:\n",
    "            pos = pos + 1\n",
    "    \n",
    "    if found:\n",
    "        print(\"The required item was found at position\", pos + 1)\n",
    "    else:\n",
    "        print(\"The required item does not exist in the list\")\n",
    "\n",
    "sequentialSearch([11,23,58,31,56,77,43,12,65,19],20)"
   ]
  },
  {
   "cell_type": "markdown",
   "metadata": {},
   "source": [
    "# Binary Search Algorithm"
   ]
  },
  {
   "cell_type": "code",
   "execution_count": 32,
   "metadata": {},
   "outputs": [
    {
     "name": "stdout",
     "output_type": "stream",
     "text": [
      "The required item does not exist in the list\n",
      "The required item was found at position 4\n"
     ]
    }
   ],
   "source": [
    "def binarySearch(given_list,item):\n",
    "    first = 0\n",
    "    last = len(given_list)-1\n",
    "    found = False\n",
    "    while( first<=last and not found):\n",
    "        mid = (first + last)//2\n",
    "        if given_list[mid] == item :\n",
    "            found = True\n",
    "        else:\n",
    "            if item < given_list[mid]:\n",
    "                last = mid - 1\n",
    "            else:\n",
    "                first = mid + 1    \n",
    "    \n",
    "    if found:\n",
    "        print(\"The required item was found at position\", mid + 1)\n",
    "    else:\n",
    "        print(\"The required item does not exist in the list\")\n",
    "    \n",
    "binarySearch([1,2,3,5,8], 6)\n",
    "binarySearch([1,2,3,5,8], 5)"
   ]
  },
  {
   "cell_type": "markdown",
   "metadata": {},
   "source": [
    "#  Write a Python program to solve the Fibonacci sequence using recursion."
   ]
  },
  {
   "cell_type": "code",
   "execution_count": 34,
   "metadata": {},
   "outputs": [
    {
     "name": "stdout",
     "output_type": "stream",
     "text": [
      "13\n"
     ]
    }
   ],
   "source": [
    "def fibonacci(n):\n",
    "    if n == 1 or n == 2:\n",
    "        return 1\n",
    "    else:\n",
    "        return (fibonacci(n - 1) + (fibonacci(n - 2)))\n",
    "\n",
    "print(fibonacci(7))"
   ]
  },
  {
   "cell_type": "markdown",
   "metadata": {},
   "source": [
    "# Write a Python program to get the factorial of a non-negative integer."
   ]
  },
  {
   "cell_type": "code",
   "execution_count": 35,
   "metadata": {},
   "outputs": [
    {
     "name": "stdout",
     "output_type": "stream",
     "text": [
      "120\n"
     ]
    }
   ],
   "source": [
    "def factorial(n):\n",
    "    if n <= 1:\n",
    "        return 1\n",
    "    else:\n",
    "        return n * (factorial(n - 1))\n",
    "    \n",
    "print(factorial(5))"
   ]
  },
  {
   "cell_type": "markdown",
   "metadata": {},
   "source": [
    "# Write a Python program to find the greatest common divisor (gcd) of two integers."
   ]
  },
  {
   "cell_type": "code",
   "execution_count": 37,
   "metadata": {},
   "outputs": [
    {
     "name": "stdout",
     "output_type": "stream",
     "text": [
      "2\n"
     ]
    }
   ],
   "source": [
    "def gcd(num1, num2):\n",
    "    low = min(num1, num2)\n",
    "    high = max(num1, num2)\n",
    " \n",
    "    if low == 0:\n",
    "        return high\n",
    "    elif low == 1:\n",
    "        return 1\n",
    "    else:\n",
    "        return gcd(low, high%low)\n",
    "print(gcd(12,14))"
   ]
  },
  {
   "cell_type": "code",
   "execution_count": null,
   "metadata": {},
   "outputs": [],
   "source": []
  }
 ],
 "metadata": {
  "kernelspec": {
   "display_name": "Python 3",
   "language": "python",
   "name": "python3"
  },
  "language_info": {
   "codemirror_mode": {
    "name": "ipython",
    "version": 3
   },
   "file_extension": ".py",
   "mimetype": "text/x-python",
   "name": "python",
   "nbconvert_exporter": "python",
   "pygments_lexer": "ipython3",
   "version": "3.6.3"
  }
 },
 "nbformat": 4,
 "nbformat_minor": 2
}
